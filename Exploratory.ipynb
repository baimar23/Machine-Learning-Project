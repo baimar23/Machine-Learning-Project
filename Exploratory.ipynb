{
 "cells": [
  {
   "cell_type": "code",
   "execution_count": 1,
   "id": "2e3eb558",
   "metadata": {},
   "outputs": [],
   "source": [
    "import pandas as pd"
   ]
  },
  {
   "cell_type": "code",
   "execution_count": 2,
   "id": "da042d32",
   "metadata": {},
   "outputs": [
    {
     "name": "stdout",
     "output_type": "stream",
     "text": [
      "<class 'pandas.core.frame.DataFrame'>\n",
      "RangeIndex: 19055 entries, 0 to 19054\n",
      "Data columns (total 62 columns):\n",
      " #   Column                                                                          Non-Null Count  Dtype \n",
      "---  ------                                                                          --------------  ----- \n",
      " 0   Agency Name                                                                     19055 non-null  object\n",
      " 1   State Name [District] Latest available year                                     19049 non-null  object\n",
      " 2   Agency Type [District] 2017-18                                                  19051 non-null  object\n",
      " 3   Agency Type [District] 2016-17                                                  19051 non-null  object\n",
      " 4   Agency Type [District] 2015-16                                                  19051 non-null  object\n",
      " 5   School District Level Code (SCHLEV) [District Finance] 2017-18                  19051 non-null  object\n",
      " 6   School District Level Code (SCHLEV) [District Finance] 2016-17                  19051 non-null  object\n",
      " 7   School District Level Code (SCHLEV) [District Finance] 2015-16                  19051 non-null  object\n",
      " 8   Urban-centric Locale [District] 2017-18                                         19051 non-null  object\n",
      " 9   Urban-centric Locale [District] 2016-17                                         19051 non-null  object\n",
      " 10  Urban-centric Locale [District] 2015-16                                         19051 non-null  object\n",
      " 11  Total Students All Grades (Includes AE) [District] 2017-18                      19051 non-null  object\n",
      " 12  Total Students All Grades (Includes AE) [District] 2016-17                      19051 non-null  object\n",
      " 13  Total Students All Grades (Includes AE) [District] 2015-16                      19051 non-null  object\n",
      " 14  American Indian/Alaska Native Students [District] 2017-18                       19051 non-null  object\n",
      " 15  American Indian/Alaska Native Students [District] 2016-17                       19051 non-null  object\n",
      " 16  American Indian/Alaska Native Students [District] 2015-16                       19051 non-null  object\n",
      " 17  Hispanic Students [District] 2017-18                                            19051 non-null  object\n",
      " 18  Hispanic Students [District] 2016-17                                            19051 non-null  object\n",
      " 19  Hispanic Students [District] 2015-16                                            19051 non-null  object\n",
      " 20  Asian or Asian/Pacific Islander Students [District] 2017-18                     19051 non-null  object\n",
      " 21  Asian or Asian/Pacific Islander Students [District] 2016-17                     19051 non-null  object\n",
      " 22  Asian or Asian/Pacific Islander Students [District] 2015-16                     19051 non-null  object\n",
      " 23  Black or African American Students [District] 2017-18                           19051 non-null  object\n",
      " 24  Black or African American Students [District] 2016-17                           19051 non-null  object\n",
      " 25  Black or African American Students [District] 2015-16                           19051 non-null  object\n",
      " 26  White Students [District] 2017-18                                               19051 non-null  object\n",
      " 27  White Students [District] 2016-17                                               19051 non-null  object\n",
      " 28  White Students [District] 2015-16                                               19051 non-null  object\n",
      " 29  Two or More Races Students [District] 2017-18                                   19051 non-null  object\n",
      " 30  Two or More Races Students [District] 2016-17                                   19051 non-null  object\n",
      " 31  Two or More Races Students [District] 2015-16                                   19051 non-null  object\n",
      " 32  Nat. Hawaiian or Other Pacific Isl. Students [District] 2017-18                 19051 non-null  object\n",
      " 33  Nat. Hawaiian or Other Pacific Isl. Students [District] 2016-17                 19051 non-null  object\n",
      " 34  Nat. Hawaiian or Other Pacific Isl. Students [District] 2015-16                 19051 non-null  object\n",
      " 35  Total Race/Ethnicity [District] 2017-18                                         19051 non-null  object\n",
      " 36  Total Race/Ethnicity [District] 2016-17                                         19051 non-null  object\n",
      " 37  Total Race/Ethnicity [District] 2015-16                                         19051 non-null  object\n",
      " 38  Pupil/Teacher Ratio [District] 2017-18                                          19051 non-null  object\n",
      " 39  Pupil/Teacher Ratio [District] 2016-17                                          19051 non-null  object\n",
      " 40  Pupil/Teacher Ratio [District] 2015-16                                          19051 non-null  object\n",
      " 41  Total Staff [District] 2017-18                                                  19051 non-null  object\n",
      " 42  Total Staff [District] 2016-17                                                  19051 non-null  object\n",
      " 43  Total Staff [District] 2015-16                                                  19051 non-null  object\n",
      " 44  Total General Revenue (TOTALREV) [District Finance] 2017-18                     19051 non-null  object\n",
      " 45  Total General Revenue (TOTALREV) [District Finance] 2016-17                     19051 non-null  object\n",
      " 46  Total General Revenue (TOTALREV) [District Finance] 2015-16                     19051 non-null  object\n",
      " 47  Total Revenue (TOTALREV) per Pupil (V33) [District Finance] 2017-18             19051 non-null  object\n",
      " 48  Total Revenue (TOTALREV) per Pupil (V33) [District Finance] 2016-17             19051 non-null  object\n",
      " 49  Total Revenue (TOTALREV) per Pupil (V33) [District Finance] 2015-16             19051 non-null  object\n",
      " 50  Long Term Debt - Outstanding Beginning of FY (_19H) [District Finance] 2017-18  19051 non-null  object\n",
      " 51  Long Term Debt - Outstanding Beginning of FY (_19H) [District Finance] 2016-17  19051 non-null  object\n",
      " 52  Long Term Debt - Outstanding Beginning of FY (_19H) [District Finance] 2015-16  19051 non-null  object\n",
      " 53  State Rev. - General Formula Assistance (C01) [District Finance] 2017-18        19051 non-null  object\n",
      " 54  State Rev. - General Formula Assistance (C01) [District Finance] 2016-17        19051 non-null  object\n",
      " 55  State Rev. - General Formula Assistance (C01) [District Finance] 2015-16        19051 non-null  object\n",
      " 56  Local Rev. - Property Taxes (T06) [District Finance] 2017-18                    19051 non-null  object\n",
      " 57  Local Rev. - Property Taxes (T06) [District Finance] 2016-17                    19051 non-null  object\n",
      " 58  Local Rev. - Property Taxes (T06) [District Finance] 2015-16                    19051 non-null  object\n",
      " 59  Federal Rev. - Federal Title I Revenue (C14) [District Finance] 2017-18         19051 non-null  object\n",
      " 60  Federal Rev. - Federal Title I Revenue (C14) [District Finance] 2016-17         19051 non-null  object\n",
      " 61  Federal Rev. - Federal Title I Revenue (C14) [District Finance] 2015-16         19051 non-null  object\n",
      "dtypes: object(62)\n",
      "memory usage: 9.0+ MB\n"
     ]
    }
   ],
   "source": [
    "df = pd.read_csv(\"./exploratory.csv\")\n",
    "df.info()"
   ]
  },
  {
   "cell_type": "code",
   "execution_count": null,
   "id": "a21e76a0",
   "metadata": {},
   "outputs": [],
   "source": []
  }
 ],
 "metadata": {
  "kernelspec": {
   "display_name": "Python 3",
   "language": "python",
   "name": "python3"
  },
  "language_info": {
   "codemirror_mode": {
    "name": "ipython",
    "version": 3
   },
   "file_extension": ".py",
   "mimetype": "text/x-python",
   "name": "python",
   "nbconvert_exporter": "python",
   "pygments_lexer": "ipython3",
   "version": "3.8.8"
  }
 },
 "nbformat": 4,
 "nbformat_minor": 5
}
